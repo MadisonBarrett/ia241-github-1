{
 "cells": [
  {
   "cell_type": "markdown",
   "id": "21c69692",
   "metadata": {},
   "source": [
    "# An Analysis of Australian COVID-19 Data in Python"
   ]
  },
  {
   "cell_type": "markdown",
   "id": "25a0e168",
   "metadata": {},
   "source": [
    "By Madison Barrett"
   ]
  },
  {
   "cell_type": "markdown",
   "id": "c34a460b",
   "metadata": {},
   "source": [
    "May 8, 2022"
   ]
  },
  {
   "attachments": {
    "Flag_of_Australia_%28converted%29.svg.png": {
     "image/png": "[encoded data removed]"
    }
   },
   "cell_type": "markdown",
   "id": "6fd9fa23",
   "metadata": {},
   "source": [
    "![Flag_of_Australia_%28converted%29.svg.png](attachment:Flag_of_Australia_%28converted%29.svg.png)"
   ]
  },
  {
   "cell_type": "markdown",
   "id": "11307e4b",
   "metadata": {},
   "source": [
    "Australian flag"
   ]
  },
  {
   "cell_type": "markdown",
   "id": "595e133b",
   "metadata": {},
   "source": [
    "## Background of COVID-19"
   ]
  },
  {
   "cell_type": "markdown",
   "id": "38090c90",
   "metadata": {},
   "source": [
    "Covid-19 is a virus caused by SARS-CoV-2. The fast spread of the virus designated it as a pandemic in March 2020 and has been ongoing for 2 years, totalling 517 million cases and 6.25 million deaths to date in May 2022."
   ]
  },
  {
   "cell_type": "markdown",
   "id": "4802e573",
   "metadata": {},
   "source": [
    "## Data"
   ]
  },
  {
   "cell_type": "markdown",
   "id": "e2474fd1",
   "metadata": {},
   "source": [
    "This Data is from [European Centre for Disease Prevention and Control](https://www.ecdc.europa.eu/en/publications-data/download-todays-data-geographic-distribution-covid-19-cases-worldwide)"
   ]
  },
  {
   "cell_type": "code",
   "execution_count": 2,
   "id": "abef6d69",
   "metadata": {},
   "outputs": [],
   "source": [
    "%matplotlib inline\n",
    "import pandas"
   ]
  },
  {
   "cell_type": "code",
   "execution_count": 8,
   "id": "21a68284",
   "metadata": {},
   "outputs": [
    {
     "data": {
      "text/html": [
       "<div>\n",
       "<style scoped>\n",
       "    .dataframe tbody tr th:only-of-type {\n",
       "        vertical-align: middle;\n",
       "    }\n",
       "\n",
       "    .dataframe tbody tr th {\n",
       "        vertical-align: top;\n",
       "    }\n",
       "\n",
       "    .dataframe thead th {\n",
       "        text-align: right;\n",
       "    }\n",
       "</style>\n",
       "<table border=\"1\" class=\"dataframe\">\n",
       "  <thead>\n",
       "    <tr style=\"text-align: right;\">\n",
       "      <th></th>\n",
       "      <th>dateRep</th>\n",
       "      <th>day</th>\n",
       "      <th>month</th>\n",
       "      <th>year</th>\n",
       "      <th>cases</th>\n",
       "      <th>deaths</th>\n",
       "      <th>countriesAndTerritories</th>\n",
       "      <th>geoId</th>\n",
       "      <th>countryterritoryCode</th>\n",
       "      <th>popData2019</th>\n",
       "      <th>continentExp</th>\n",
       "      <th>Cumulative_number_for_14_days_of_COVID-19_cases_per_100000</th>\n",
       "    </tr>\n",
       "  </thead>\n",
       "  <tbody>\n",
       "    <tr>\n",
       "      <th>2934</th>\n",
       "      <td>14/12/2020</td>\n",
       "      <td>14</td>\n",
       "      <td>12</td>\n",
       "      <td>2020</td>\n",
       "      <td>6</td>\n",
       "      <td>0</td>\n",
       "      <td>Australia</td>\n",
       "      <td>AU</td>\n",
       "      <td>AUS</td>\n",
       "      <td>25203200.0</td>\n",
       "      <td>Oceania</td>\n",
       "      <td>0.547550</td>\n",
       "    </tr>\n",
       "    <tr>\n",
       "      <th>2935</th>\n",
       "      <td>13/12/2020</td>\n",
       "      <td>13</td>\n",
       "      <td>12</td>\n",
       "      <td>2020</td>\n",
       "      <td>13</td>\n",
       "      <td>0</td>\n",
       "      <td>Australia</td>\n",
       "      <td>AU</td>\n",
       "      <td>AUS</td>\n",
       "      <td>25203200.0</td>\n",
       "      <td>Oceania</td>\n",
       "      <td>0.555485</td>\n",
       "    </tr>\n",
       "    <tr>\n",
       "      <th>2936</th>\n",
       "      <td>2020-12-12 00:00:00</td>\n",
       "      <td>12</td>\n",
       "      <td>12</td>\n",
       "      <td>2020</td>\n",
       "      <td>12</td>\n",
       "      <td>0</td>\n",
       "      <td>Australia</td>\n",
       "      <td>AU</td>\n",
       "      <td>AUS</td>\n",
       "      <td>25203200.0</td>\n",
       "      <td>Oceania</td>\n",
       "      <td>0.547550</td>\n",
       "    </tr>\n",
       "    <tr>\n",
       "      <th>2937</th>\n",
       "      <td>2020-11-12 00:00:00</td>\n",
       "      <td>11</td>\n",
       "      <td>12</td>\n",
       "      <td>2020</td>\n",
       "      <td>7</td>\n",
       "      <td>0</td>\n",
       "      <td>Australia</td>\n",
       "      <td>AU</td>\n",
       "      <td>AUS</td>\n",
       "      <td>25203200.0</td>\n",
       "      <td>Oceania</td>\n",
       "      <td>0.527711</td>\n",
       "    </tr>\n",
       "    <tr>\n",
       "      <th>2938</th>\n",
       "      <td>2020-10-12 00:00:00</td>\n",
       "      <td>10</td>\n",
       "      <td>12</td>\n",
       "      <td>2020</td>\n",
       "      <td>6</td>\n",
       "      <td>0</td>\n",
       "      <td>Australia</td>\n",
       "      <td>AU</td>\n",
       "      <td>AUS</td>\n",
       "      <td>25203200.0</td>\n",
       "      <td>Oceania</td>\n",
       "      <td>0.551517</td>\n",
       "    </tr>\n",
       "    <tr>\n",
       "      <th>2939</th>\n",
       "      <td>2020-09-12 00:00:00</td>\n",
       "      <td>9</td>\n",
       "      <td>12</td>\n",
       "      <td>2020</td>\n",
       "      <td>15</td>\n",
       "      <td>0</td>\n",
       "      <td>Australia</td>\n",
       "      <td>AU</td>\n",
       "      <td>AUS</td>\n",
       "      <td>25203200.0</td>\n",
       "      <td>Oceania</td>\n",
       "      <td>0.551517</td>\n",
       "    </tr>\n",
       "    <tr>\n",
       "      <th>2940</th>\n",
       "      <td>2020-08-12 00:00:00</td>\n",
       "      <td>8</td>\n",
       "      <td>12</td>\n",
       "      <td>2020</td>\n",
       "      <td>7</td>\n",
       "      <td>0</td>\n",
       "      <td>Australia</td>\n",
       "      <td>AU</td>\n",
       "      <td>AUS</td>\n",
       "      <td>25203200.0</td>\n",
       "      <td>Oceania</td>\n",
       "      <td>0.543582</td>\n",
       "    </tr>\n",
       "    <tr>\n",
       "      <th>2941</th>\n",
       "      <td>2020-07-12 00:00:00</td>\n",
       "      <td>7</td>\n",
       "      <td>12</td>\n",
       "      <td>2020</td>\n",
       "      <td>9</td>\n",
       "      <td>0</td>\n",
       "      <td>Australia</td>\n",
       "      <td>AU</td>\n",
       "      <td>AUS</td>\n",
       "      <td>25203200.0</td>\n",
       "      <td>Oceania</td>\n",
       "      <td>0.571356</td>\n",
       "    </tr>\n",
       "    <tr>\n",
       "      <th>2942</th>\n",
       "      <td>2020-06-12 00:00:00</td>\n",
       "      <td>6</td>\n",
       "      <td>12</td>\n",
       "      <td>2020</td>\n",
       "      <td>7</td>\n",
       "      <td>0</td>\n",
       "      <td>Australia</td>\n",
       "      <td>AU</td>\n",
       "      <td>AUS</td>\n",
       "      <td>25203200.0</td>\n",
       "      <td>Oceania</td>\n",
       "      <td>0.591195</td>\n",
       "    </tr>\n",
       "    <tr>\n",
       "      <th>2943</th>\n",
       "      <td>2020-05-12 00:00:00</td>\n",
       "      <td>5</td>\n",
       "      <td>12</td>\n",
       "      <td>2020</td>\n",
       "      <td>10</td>\n",
       "      <td>0</td>\n",
       "      <td>Australia</td>\n",
       "      <td>AU</td>\n",
       "      <td>AUS</td>\n",
       "      <td>25203200.0</td>\n",
       "      <td>Oceania</td>\n",
       "      <td>0.634840</td>\n",
       "    </tr>\n",
       "  </tbody>\n",
       "</table>\n",
       "</div>"
      ],
      "text/plain": [
       "                  dateRep  day  month  year  cases  deaths  \\\n",
       "2934           14/12/2020   14     12  2020      6       0   \n",
       "2935           13/12/2020   13     12  2020     13       0   \n",
       "2936  2020-12-12 00:00:00   12     12  2020     12       0   \n",
       "2937  2020-11-12 00:00:00   11     12  2020      7       0   \n",
       "2938  2020-10-12 00:00:00   10     12  2020      6       0   \n",
       "2939  2020-09-12 00:00:00    9     12  2020     15       0   \n",
       "2940  2020-08-12 00:00:00    8     12  2020      7       0   \n",
       "2941  2020-07-12 00:00:00    7     12  2020      9       0   \n",
       "2942  2020-06-12 00:00:00    6     12  2020      7       0   \n",
       "2943  2020-05-12 00:00:00    5     12  2020     10       0   \n",
       "\n",
       "     countriesAndTerritories geoId countryterritoryCode  popData2019  \\\n",
       "2934               Australia    AU                  AUS   25203200.0   \n",
       "2935               Australia    AU                  AUS   25203200.0   \n",
       "2936               Australia    AU                  AUS   25203200.0   \n",
       "2937               Australia    AU                  AUS   25203200.0   \n",
       "2938               Australia    AU                  AUS   25203200.0   \n",
       "2939               Australia    AU                  AUS   25203200.0   \n",
       "2940               Australia    AU                  AUS   25203200.0   \n",
       "2941               Australia    AU                  AUS   25203200.0   \n",
       "2942               Australia    AU                  AUS   25203200.0   \n",
       "2943               Australia    AU                  AUS   25203200.0   \n",
       "\n",
       "     continentExp  Cumulative_number_for_14_days_of_COVID-19_cases_per_100000  \n",
       "2934      Oceania                                           0.547550           \n",
       "2935      Oceania                                           0.555485           \n",
       "2936      Oceania                                           0.547550           \n",
       "2937      Oceania                                           0.527711           \n",
       "2938      Oceania                                           0.551517           \n",
       "2939      Oceania                                           0.551517           \n",
       "2940      Oceania                                           0.543582           \n",
       "2941      Oceania                                           0.571356           \n",
       "2942      Oceania                                           0.591195           \n",
       "2943      Oceania                                           0.634840           "
      ]
     },
     "execution_count": 8,
     "metadata": {},
     "output_type": "execute_result"
    }
   ],
   "source": [
    "df = pandas.read_excel('s3://ia241-1-spring2022-barrett/covid_data.xls')\n",
    "Australia_data = df.loc[(df['countriesAndTerritories']) == 'Australia']\n",
    "Australia_data[:10]"
   ]
  },
  {
   "cell_type": "markdown",
   "id": "00b74dc2",
   "metadata": {},
   "source": [
    "## Question 1: How many confirmed cases of COVID19 are there in Australia in 2020/What was the trend throughout the year?"
   ]
  },
  {
   "cell_type": "code",
   "execution_count": 25,
   "id": "ecd3827c",
   "metadata": {},
   "outputs": [
    {
     "name": "stdout",
     "output_type": "stream",
     "text": [
      "The number of confirmed COVID-19 cases in Australia in 2020 was 28031\n"
     ]
    }
   ],
   "source": [
    "sum_cases_year = Australia_data.sum()['cases']\n",
    "print('The number of confirmed COVID-19 cases in Australia in 2020 was {}'.format (Australia_data.sum()['cases']))"
   ]
  },
  {
   "cell_type": "code",
   "execution_count": 31,
   "id": "3c8524f3",
   "metadata": {},
   "outputs": [],
   "source": [
    "sum_cases_per_month = Australia_data.groupby('month').sum()['cases']"
   ]
  },
  {
   "cell_type": "code",
   "execution_count": 35,
   "id": "34f9ba2d",
   "metadata": {
    "scrolled": true
   },
   "outputs": [
    {
     "data": {
      "text/plain": [
       "<AxesSubplot:xlabel='month'>"
      ]
     },
     "execution_count": 35,
     "metadata": {},
     "output_type": "execute_result"
    },
    {
     "data": {
      "image/png": "[encoded data removed]",
      "text/plain": [
       "<Figure size 432x288 with 1 Axes>"
      ]
     },
     "metadata": {
      "needs_background": "light"
     },
     "output_type": "display_data"
    }
   ],
   "source": [
    "sum_cases_per_month.plot()"
   ]
  },
  {
   "cell_type": "markdown",
   "id": "f38ed3a0",
   "metadata": {},
   "source": [
    "### Explanation of Question 1 Calculations"
   ]
  },
  {
   "cell_type": "markdown",
   "id": "03c2ac77",
   "metadata": {},
   "source": [
    "For question 1, the sum of cases needed to be summed, and that was done using the already defined Australia_data and .sum()['cases'] To imput it into a sentence answer, print was used with the sentence, then the specifications were made with .format (Australia_data.sum()['cases'])"
   ]
  },
  {
   "cell_type": "markdown",
   "id": "1e0d6989",
   "metadata": {},
   "source": [
    "### Interpretation of Question 1 Visualization"
   ]
  },
  {
   "cell_type": "markdown",
   "id": "1e654925",
   "metadata": {},
   "source": [
    "The line chart for question 1 shows that Covid-19 cases in Australia spiked around fall, in March, and winter, in July and August."
   ]
  },
  {
   "cell_type": "markdown",
   "id": "8dfc800c",
   "metadata": {},
   "source": [
    "## Question 2: How many Covid deaths are there in relation to the number of cases?"
   ]
  },
  {
   "cell_type": "code",
   "execution_count": 33,
   "id": "c6206ce7",
   "metadata": {},
   "outputs": [
    {
     "data": {
      "text/plain": [
       "<AxesSubplot:xlabel='cases', ylabel='deaths'>"
      ]
     },
     "execution_count": 33,
     "metadata": {},
     "output_type": "execute_result"
    },
    {
     "data": {
      "image/png": "[encoded data removed]",
      "text/plain": [
       "<Figure size 432x288 with 2 Axes>"
      ]
     },
     "metadata": {
      "needs_background": "light"
     },
     "output_type": "display_data"
    }
   ],
   "source": [
    "Australia_data.plot.scatter(x='cases',y='deaths',c='month')"
   ]
  },
  {
   "cell_type": "markdown",
   "id": "554b4bab",
   "metadata": {},
   "source": [
    "### Explanation of Question 2 Calculations"
   ]
  },
  {
   "cell_type": "markdown",
   "id": "c043c2e8",
   "metadata": {},
   "source": [
    "The data was able to be sorted and put into a graph by using .plot.scatter then specifying what should be on each axis. In this graph, the x axis shows number of cases and the y axis shows number of deaths."
   ]
  },
  {
   "cell_type": "markdown",
   "id": "7b2f29e3",
   "metadata": {},
   "source": [
    "### Interpretation of Question 2 Visualization"
   ]
  },
  {
   "cell_type": "markdown",
   "id": "f1597e4d",
   "metadata": {},
   "source": [
    "The scatterplot for question 2 shows a general small increase in deaths as cases go up, with deaths generally in the middle of the year (winter for Australia). There are two outliers."
   ]
  },
  {
   "cell_type": "markdown",
   "id": "3a78f241",
   "metadata": {},
   "source": [
    "## Question 3: What month has the most deaths?"
   ]
  },
  {
   "cell_type": "code",
   "execution_count": 36,
   "id": "aed2280a",
   "metadata": {},
   "outputs": [],
   "source": [
    "Australia_death_sum= Australia_data.groupby('month').sum()['deaths']"
   ]
  },
  {
   "cell_type": "code",
   "execution_count": 40,
   "id": "5fe6307e",
   "metadata": {},
   "outputs": [
    {
     "data": {
      "text/plain": [
       "<AxesSubplot:xlabel='month'>"
      ]
     },
     "execution_count": 40,
     "metadata": {},
     "output_type": "execute_result"
    },
    {
     "data": {
      "image/png": "[encoded data removed]",
      "text/plain": [
       "<Figure size 432x288 with 1 Axes>"
      ]
     },
     "metadata": {
      "needs_background": "light"
     },
     "output_type": "display_data"
    }
   ],
   "source": [
    "Australia_death_sum.plot.bar()"
   ]
  },
  {
   "cell_type": "markdown",
   "id": "f009e7a9",
   "metadata": {},
   "source": [
    "### Explanation of Question 3 Calculations"
   ]
  },
  {
   "cell_type": "markdown",
   "id": "52592069",
   "metadata": {},
   "source": [
    "For question 3, groupby was used to sort the data into number of deaths per month, and label it Australia_death_sum. Then .plot.bar() was used to put this information into a bar chart."
   ]
  },
  {
   "cell_type": "markdown",
   "id": "9dcd5479",
   "metadata": {},
   "source": [
    "### Interpretation of Question 2 Visualization"
   ]
  },
  {
   "cell_type": "markdown",
   "id": "cba8b898",
   "metadata": {},
   "source": [
    "The bar chart for question 2 shows that August and September had the most deaths, meanwhile January, February, November, and December had the least."
   ]
  },
  {
   "cell_type": "markdown",
   "id": "2f4004ad",
   "metadata": {},
   "source": [
    "## Conclusion"
   ]
  },
  {
   "cell_type": "markdown",
   "id": "20deaae5",
   "metadata": {},
   "source": [
    "These were calculations and visualizations of Covid-19 Data in Australia. Overall, Australia had the most confirmed cases and deaths in August, which is in Australia's winter. Generally, as cases increased so did number of deaths."
   ]
  },
  {
   "cell_type": "markdown",
   "id": "8a547eee",
   "metadata": {},
   "source": [
    "### Limitations"
   ]
  },
  {
   "cell_type": "markdown",
   "id": "407cf58d",
   "metadata": {},
   "source": [
    "Limitations for this project include a limited scope of data and that the data was very general for Australia. The project was also completed with beginner Python skills. More extensive data and furthur expertise in Python would improve this project in the future. "
   ]
  },
  {
   "cell_type": "code",
   "execution_count": null,
   "id": "c514c75b",
   "metadata": {},
   "outputs": [],
   "source": []
  }
 ],
 "metadata": {
  "kernelspec": {
   "display_name": "conda_python3",
   "language": "python",
   "name": "conda_python3"
  },
  "language_info": {
   "codemirror_mode": {
    "name": "ipython",
    "version": 3
   },
   "file_extension": ".py",
   "mimetype": "text/x-python",
   "name": "python",
   "nbconvert_exporter": "python",
   "pygments_lexer": "ipython3",
   "version": "3.6.13"
  }
 },
 "nbformat": 4,
 "nbformat_minor": 5
}
